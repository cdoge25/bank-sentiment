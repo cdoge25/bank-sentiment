{
 "cells": [
  {
   "cell_type": "markdown",
   "id": "b372d9a3-a951-4b01-aef5-931dee222198",
   "metadata": {},
   "source": [
    "# Libraries"
   ]
  },
  {
   "cell_type": "code",
   "execution_count": 1,
   "id": "9a89d77d-6e65-4d0f-a920-8ad39340845d",
   "metadata": {
    "execution": {
     "iopub.execute_input": "2024-01-25T04:08:41.213524Z",
     "iopub.status.busy": "2024-01-25T04:08:41.213138Z",
     "iopub.status.idle": "2024-01-25T04:08:55.852447Z",
     "shell.execute_reply": "2024-01-25T04:08:55.851422Z",
     "shell.execute_reply.started": "2024-01-25T04:08:41.213497Z"
    }
   },
   "outputs": [],
   "source": [
    "import pandas as pd\n",
    "import json\n",
    "import regex as re\n",
    "import matplotlib.pyplot as plt\n",
    "import numpy as np\n",
    "import seaborn as sns\n",
    "import time\n",
    "import emoji\n",
    "from sklearn.decomposition import LatentDirichletAllocation\n",
    "from gensim import corpora, models\n",
    "from wordcloud import WordCloud, STOPWORDS\n",
    "from collections import Counter\n",
    "from underthesea import word_tokenize\n",
    "from sklearn.metrics import accuracy_score, precision_score, recall_score, f1_score, classification_report, confusion_matrix\n",
    "from sklearn.feature_extraction.text import TfidfVectorizer\n",
    "from sklearn.preprocessing import StandardScaler\n",
    "from sklearn.utils import class_weight\n",
    "from sklearn.model_selection import train_test_split\n",
    "from sklearn.linear_model import LogisticRegression\n",
    "from sklearn.ensemble import RandomForestClassifier\n",
    "from xgboost import XGBClassifier, plot_importance\n",
    "from sklearn.pipeline import Pipeline, FeatureUnion\n",
    "from sklearn.compose import ColumnTransformer\n",
    "from scipy.sparse import hstack"
   ]
  },
  {
   "cell_type": "code",
   "execution_count": null,
   "id": "4acbb5ec-b231-4302-ac85-a137ba6f5c98",
   "metadata": {},
   "outputs": [],
   "source": []
  }
 ],
 "metadata": {
  "jpcodetoc-autonumbering": true,
  "kernelspec": {
   "display_name": "nlp",
   "language": "python",
   "name": "nlp"
  },
  "language_info": {
   "codemirror_mode": {
    "name": "ipython",
    "version": 3
   },
   "file_extension": ".py",
   "mimetype": "text/x-python",
   "name": "python",
   "nbconvert_exporter": "python",
   "pygments_lexer": "ipython3",
   "version": "3.8.8"
  }
 },
 "nbformat": 4,
 "nbformat_minor": 5
}
